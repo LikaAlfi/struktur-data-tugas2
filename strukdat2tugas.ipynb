{
  "nbformat": 4,
  "nbformat_minor": 0,
  "metadata": {
    "colab": {
      "provenance": [],
      "authorship_tag": "ABX9TyMflzfNXRQPCkLk6M0CO10E",
      "include_colab_link": true
    },
    "kernelspec": {
      "name": "python3",
      "display_name": "Python 3"
    },
    "language_info": {
      "name": "python"
    }
  },
  "cells": [
    {
      "cell_type": "markdown",
      "metadata": {
        "id": "view-in-github",
        "colab_type": "text"
      },
      "source": [
        "<a href=\"https://colab.research.google.com/github/LikaAlfi/struktur-data-tugas2/blob/main/strukdat2tugas.ipynb\" target=\"_parent\"><img src=\"https://colab.research.google.com/assets/colab-badge.svg\" alt=\"Open In Colab\"/></a>"
      ]
    },
    {
      "cell_type": "code",
      "execution_count": 1,
      "metadata": {
        "colab": {
          "base_uri": "https://localhost:8080/"
        },
        "id": "LASp_Cj692dL",
        "outputId": "67fb6821-6c6d-4cfc-a744-18fef002b065"
      },
      "outputs": [
        {
          "output_type": "stream",
          "name": "stdout",
          "text": [
            "Masukkan nama satpam ke-1: Lika\n",
            "Masukkan nama satpam ke-2: Setiasih\n",
            "Masukkan nama satpam ke-3: Nadhifa\n",
            "Masukkan nama satpam ke-4: Septiana\n",
            "\n",
            "📌 Jadwal Piket Satpam Selama 2 Minggu:\n",
            "\n",
            "Hari 1: Lika\n",
            "Hari 2: Setiasih\n",
            "Hari 3: Nadhifa\n",
            "Hari 4: Septiana\n",
            "Hari 5: Lika\n",
            "Hari 6: Setiasih\n",
            "Hari 7: Nadhifa\n",
            "Hari 8: Septiana\n",
            "Hari 9: Lika\n",
            "Hari 10: Setiasih\n",
            "Hari 11: Nadhifa\n",
            "Hari 12: Septiana\n",
            "Hari 13: Lika\n",
            "Hari 14: Setiasih\n"
          ]
        }
      ],
      "source": [
        "# tugas Linked List\n",
        "\n",
        "class Node:\n",
        "    def __init__(self, name):\n",
        "        self.name = name\n",
        "        self.next = None\n",
        "\n",
        "class CircularLinkedList:\n",
        "    def __init__(self):\n",
        "        self.head = None\n",
        "\n",
        "    def append(self, name):\n",
        "        new_node = Node(name)\n",
        "        if not self.head:\n",
        "            self.head = new_node\n",
        "            self.head.next = self.head  # Circular link\n",
        "        else:\n",
        "            temp = self.head\n",
        "            while temp.next != self.head:\n",
        "                temp = temp.next\n",
        "            temp.next = new_node\n",
        "            new_node.next = self.head  # Circular link\n",
        "\n",
        "    def print_schedule(self, days):\n",
        "        if not self.head:\n",
        "            print(\"Daftar satpam kosong!\")\n",
        "            return\n",
        "\n",
        "        print(\"\\n📌 Jadwal Piket Satpam Selama 2 Minggu:\\n\")\n",
        "        temp = self.head\n",
        "        for day in range(1, days + 1):\n",
        "            print(f\"Hari {day}: {temp.name}\")\n",
        "            temp = temp.next  # Geser ke satpam berikutnya\n",
        "\n",
        "# ====== Program Utama (Main) ====== #\n",
        "CircularLinkedList = CircularLinkedList()\n",
        "\n",
        "# Memasukkan 4 nama satpam\n",
        "for i in range(1, 5):\n",
        "    name = input(f\"Masukkan nama satpam ke-{i}: \")\n",
        "    CircularLinkedList.append(name)\n",
        "\n",
        "# Menampilkan jadwal piket selama 14 hari\n",
        "CircularLinkedList.print_schedule(14)"
      ]
    }
  ]
}